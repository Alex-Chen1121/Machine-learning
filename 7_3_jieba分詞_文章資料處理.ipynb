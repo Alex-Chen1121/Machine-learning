{
  "nbformat": 4,
  "nbformat_minor": 0,
  "metadata": {
    "colab": {
      "provenance": [],
      "authorship_tag": "ABX9TyNsEx8v4T1AkECb3Og7wAAe",
      "include_colab_link": true
    },
    "kernelspec": {
      "name": "python3",
      "display_name": "Python 3"
    },
    "language_info": {
      "name": "python"
    }
  },
  "cells": [
    {
      "cell_type": "markdown",
      "metadata": {
        "id": "view-in-github",
        "colab_type": "text"
      },
      "source": [
        "<a href=\"https://colab.research.google.com/github/Alex-Chen1121/Machine-learning/blob/main/7_3_jieba%E5%88%86%E8%A9%9E_%E6%96%87%E7%AB%A0%E8%B3%87%E6%96%99%E8%99%95%E7%90%86.ipynb\" target=\"_parent\"><img src=\"https://colab.research.google.com/assets/colab-badge.svg\" alt=\"Open In Colab\"/></a>"
      ]
    },
    {
      "cell_type": "code",
      "execution_count": null,
      "metadata": {
        "colab": {
          "base_uri": "https://localhost:8080/"
        },
        "id": "dPXKbhpPXTNp",
        "outputId": "977ecaa3-fe39-4a8f-c7f0-8f9993da55da"
      },
      "outputs": [
        {
          "output_type": "stream",
          "name": "stdout",
          "text": [
            "Collecting opencc-python-reimplemented\n",
            "  Downloading opencc_python_reimplemented-0.1.7-py2.py3-none-any.whl (481 kB)\n",
            "\u001b[2K     \u001b[90m━━━━━━━━━━━━━━━━━━━━━━━━━━━━━━━━━━━━━━━\u001b[0m \u001b[32m481.8/481.8 kB\u001b[0m \u001b[31m6.8 MB/s\u001b[0m eta \u001b[36m0:00:00\u001b[0m\n",
            "\u001b[?25hInstalling collected packages: opencc-python-reimplemented\n",
            "Successfully installed opencc-python-reimplemented-0.1.7\n"
          ]
        }
      ],
      "source": [
        "!pip install opencc-python-reimplemented"
      ]
    },
    {
      "cell_type": "code",
      "source": [
        "#文字簡轉繁體\n",
        "\n",
        "from opencc import OpenCC\n",
        "cc= OpenCC(\"s2tw\")\n",
        "to_convert='''\n",
        "t-SNE是一种集降维与可视化于一体的技术，它是基于SNE可视化的改进，解决了SNE在可视化后样本分布拥挤、边界不明显的特点，是目前较好的降维可视化手段。'''\n",
        "\n",
        "converted= cc.convert(to_convert)\n",
        "converted"
      ],
      "metadata": {
        "colab": {
          "base_uri": "https://localhost:8080/",
          "height": 36
        },
        "id": "TP2vN_BBXU_o",
        "outputId": "530c0e8d-49e8-4291-bbb9-45403ab25bfe"
      },
      "execution_count": null,
      "outputs": [
        {
          "output_type": "execute_result",
          "data": {
            "text/plain": [
              "'\\nt-SNE是一種集降維與可視化於一體的技術，它是基於SNE可視化的改進，解決了SNE在可視化後樣本分佈擁擠、邊界不明顯的特點，是目前較好的降維可視化手段。'"
            ],
            "application/vnd.google.colaboratory.intrinsic+json": {
              "type": "string"
            }
          },
          "metadata": {},
          "execution_count": 2
        }
      ]
    },
    {
      "cell_type": "code",
      "source": [
        "news='''NBA自由市場才剛開放不久，已陸續有多位球員簽下億元頂薪合約，其中一位就是夏洛特黃蜂的明星後衛「球三弟」小鮑爾（LaMelo Ball），根據《ESPN》報導，他同意與黃蜂完成5年2.6億美元（約81億新台幣）的新秀頂薪續約，而這不僅是黃蜂隊史最大合約，也是聯盟史上總值第2大的合約。\n",
        "\n",
        "小鮑爾的新秀合約還剩下一年，黃蜂提供了「指定新秀條款」的續約合約，讓他成為隊史首位簽下指定新秀合約的球員，據悉這份合約的最低保障金額為2.07億美元（約64.5億新台幣），只要小鮑爾下季能夠入選年度前三隊陣容，將可拿到最高2.6億美元的金額。\n",
        "小鮑爾在2020年加入黃蜂後便迅速嶄露頭角，首年就獲選年度最佳新秀，接著第二年並未像其他新秀遇上「撞牆期」，反而以更加出色的表現入選明星賽，同時他也是史上第2年輕達成得分、助攻、籃板皆破1000的球員，僅次於球星詹姆斯（LeBron James）；不過小鮑爾卻在本季飽受腳踝傷勢困擾，整季僅出賽36場，場均可貢獻23.3分、8.4助攻、6.4籃板、1.3抄截，每場可投進4顆三分球，三分命中率37.6%。\n",
        "黃蜂在續簽小鮑爾後，也盼望他可以與榜眼新秀米勒（Brandon Miller）、洛齊爾（Terry Rozier）、海沃德（Gordon Hayward）聯手幫助球隊終結7年之久的季後賽荒；而小鮑爾也成為2020年選秀梯次中第3位簽下億元頂級合約的球員，前2位分別是印第安納溜馬哈利伯頓（Tyrese Haliburton，5年2.6億美元）、曼菲斯灰熊班恩（Desmond Bane，5年2.07億美元）。\n",
        "'''"
      ],
      "metadata": {
        "id": "El_mPnpxXX9X"
      },
      "execution_count": null,
      "outputs": []
    },
    {
      "cell_type": "code",
      "source": [
        "# jieba分詞\n",
        "# 將文章中的單詞自動分出來\n",
        "import jieba\n",
        "\" \".join(jieba.cut(news))"
      ],
      "metadata": {
        "colab": {
          "base_uri": "https://localhost:8080/",
          "height": 181
        },
        "id": "0XPOox6aXZdm",
        "outputId": "98e48d7b-154c-40e8-9ec5-7f693da72a1d"
      },
      "execution_count": null,
      "outputs": [
        {
          "output_type": "execute_result",
          "data": {
            "text/plain": [
              "'NBA 自由市場 才剛 開放 不久 ， 已 陸續 有 多位 球員 簽下 億元 頂薪 合約 ， 其中 一位 就是 夏洛特 黃蜂 的 明星 後衛 「 球三弟 」 小 鮑爾 （ LaMelo   Ball ） ， 根據 《 ESPN 》 報導 ， 他 同意 與 黃蜂 完成 5 年 2.6 億美元 （ 約 81 億新 台幣 ） 的 新秀 頂薪 續約 ， 而 這 不僅 是 黃蜂隊 史 最大 合約 ， 也 是 聯盟 史上 總值 第 2 大 的 合約 。 \\n \\n 小 鮑爾 的 新秀 合約 還 剩下 一年 ， 黃蜂 提供 了 「 指定 新秀 條款 」 的 續約 合約 ， 讓 他 成為 隊史 首位 簽下 指定 新秀 合約 的 球員 ， 據悉 這份 合約 的 最低 保障 金額 為 2.07 億美元 （ 約 64.5 億新 台幣 ） ， 只要 小 鮑爾 下季 能夠 入選 年度 前 三隊 陣容 ， 將可 拿到 最高 2.6 億美元 的 金額 。 \\n 小 鮑爾 在 2020 年 加入 黃蜂 後 便 迅速 嶄露頭角 ， 首年 就 獲選 年度 最佳 新秀 ， 接著 第二年 並未 像 其他 新秀 遇上 「 撞牆 期 」 ， 反而 以 更加 出色 的 表現 入選 明星 賽 ， 同時 他 也 是 史 上 第 2 年輕 達成 得分 、 助攻 、 籃板 皆 破 1000 的 球員 ， 僅次於 球星 詹姆斯 （ LeBron   James ） ； 不過 小 鮑爾 卻 在 本季 飽受 腳踝 傷勢 困擾 ， 整季 僅 出賽 36 場 ， 場均 可 貢獻 23.3 分 、 8.4 助攻 、 6.4 籃板 、 1.3 抄截 ， 每場 可 投進 4 顆 三分球 ， 三分 命中率 37.6% 。 \\n 黃蜂 在 續簽 小 鮑 爾後 ， 也 盼望 他 可以 與 榜眼 新秀 米勒 （ Brandon   Miller ） 、 洛齊爾 （ Terry   Rozier ） 、 海沃德 （ Gordon   Hayward ） 聯手 幫助 球隊 終結 7 年 之久 的 季後賽 荒 ； 而 小 鮑爾 也 成為 2020 年 選秀 梯次 中 第 3 位 簽下 億元 頂級 合約 的 球員 ， 前 2 位 分別 是 印第安納 溜 馬 哈利 伯頓 （ Tyrese   Haliburton ， 5 年 2.6 億美元 ） 、 曼 菲斯 灰 熊班恩 （ Desmond   Bane ， 5 年 2.07 億美元 ） 。 \\n'"
            ],
            "application/vnd.google.colaboratory.intrinsic+json": {
              "type": "string"
            }
          },
          "metadata": {},
          "execution_count": 6
        }
      ]
    },
    {
      "cell_type": "code",
      "source": [
        "# 使用中文辭典來切分 理論上分詞會更精準\n",
        "from urllib.request import urlretrieve\n",
        "url=\"https://github.com/fxsjy/jieba/raw/master/extra_dict/dict.txt.big\"\n",
        "urlretrieve(url, \"bigdic\")\n",
        "jieba.set_dictionary(\"bigdic\")\n",
        "\" \".join(jieba.cut(news))"
      ],
      "metadata": {
        "colab": {
          "base_uri": "https://localhost:8080/",
          "height": 326
        },
        "id": "Z8rM9pZcZKBX",
        "outputId": "584340a9-a6bc-4369-a300-320ef5dd2af3"
      },
      "execution_count": null,
      "outputs": [
        {
          "output_type": "stream",
          "name": "stderr",
          "text": [
            "Building prefix dict from /content/bigdic ...\n",
            "DEBUG:jieba:Building prefix dict from /content/bigdic ...\n",
            "Dumping model to file cache /tmp/jieba.ud6bf8f54c01f90b8d724c40d567237f2.cache\n",
            "DEBUG:jieba:Dumping model to file cache /tmp/jieba.ud6bf8f54c01f90b8d724c40d567237f2.cache\n",
            "Loading model cost 2.210 seconds.\n",
            "DEBUG:jieba:Loading model cost 2.210 seconds.\n",
            "Prefix dict has been built successfully.\n",
            "DEBUG:jieba:Prefix dict has been built successfully.\n"
          ]
        },
        {
          "output_type": "execute_result",
          "data": {
            "text/plain": [
              "'NBA 自由市場 才剛 開放 不久 ， 已 陸續 有 多位 球員 簽下 億元 頂薪 合約 ， 其中 一位 就是 夏洛特 黃蜂 的 明星 後衛 「 球三弟 」 小 鮑爾 （ LaMelo   Ball ） ， 根據 《 ESPN 》 報導 ， 他 同意 與 黃蜂 完成 5 年 2.6 億美元 （ 約 81 億新 台幣 ） 的 新秀 頂薪 續約 ， 而 這 不僅 是 黃蜂隊 史 最大 合約 ， 也 是 聯盟 史上 總值 第 2 大 的 合約 。 \\n \\n 小 鮑爾 的 新秀 合約 還 剩下 一年 ， 黃蜂 提供 了 「 指定 新秀 條款 」 的 續約 合約 ， 讓 他 成為 隊史 首位 簽下 指定 新秀 合約 的 球員 ， 據悉 這份 合約 的 最低 保障 金額 為 2.07 億美元 （ 約 64.5 億新 台幣 ） ， 只要 小 鮑爾 下季 能夠 入選 年度 前 三隊 陣容 ， 將可 拿到 最高 2.6 億美元 的 金額 。 \\n 小 鮑爾 在 2020 年 加入 黃蜂 後 便 迅速 嶄露頭角 ， 首年 就 獲選 年度 最佳 新秀 ， 接著 第二年 並未 像 其他 新秀 遇上 「 撞牆 期 」 ， 反而 以 更加 出色 的 表現 入選 明星 賽 ， 同時 他 也 是 史 上 第 2 年輕 達成 得分 、 助攻 、 籃板 皆 破 1000 的 球員 ， 僅次於 球星 詹姆斯 （ LeBron   James ） ； 不過 小 鮑爾 卻 在 本季 飽受 腳踝 傷勢 困擾 ， 整季 僅 出賽 36 場 ， 場均 可 貢獻 23.3 分 、 8.4 助攻 、 6.4 籃板 、 1.3 抄截 ， 每場 可 投進 4 顆 三分球 ， 三分 命中率 37.6% 。 \\n 黃蜂 在 續簽 小 鮑 爾後 ， 也 盼望 他 可以 與 榜眼 新秀 米勒 （ Brandon   Miller ） 、 洛齊爾 （ Terry   Rozier ） 、 海沃德 （ Gordon   Hayward ） 聯手 幫助 球隊 終結 7 年 之久 的 季後賽 荒 ； 而 小 鮑爾 也 成為 2020 年 選秀 梯次 中 第 3 位 簽下 億元 頂級 合約 的 球員 ， 前 2 位 分別 是 印第安納 溜 馬 哈利 伯頓 （ Tyrese   Haliburton ， 5 年 2.6 億美元 ） 、 曼 菲斯 灰 熊班恩 （ Desmond   Bane ， 5 年 2.07 億美元 ） 。 \\n'"
            ],
            "application/vnd.google.colaboratory.intrinsic+json": {
              "type": "string"
            }
          },
          "metadata": {},
          "execution_count": 7
        }
      ]
    },
    {
      "cell_type": "code",
      "source": [
        "# 使用自製辭典 手動將分詞錯誤的地方改正\n",
        "jieba.set_dictionary(\"bigdic\")\n",
        "jieba.load_userdict(\"mydict.txt\") # 額外增加辭典\n",
        "\" \".join(jieba.cut(news))"
      ],
      "metadata": {
        "colab": {
          "base_uri": "https://localhost:8080/",
          "height": 326
        },
        "id": "xmIAthEBazBd",
        "outputId": "6ab2a5e2-8a67-4e22-e09b-ae2809e71152"
      },
      "execution_count": null,
      "outputs": [
        {
          "output_type": "stream",
          "name": "stderr",
          "text": [
            "Building prefix dict from /content/bigdic ...\n",
            "DEBUG:jieba:Building prefix dict from /content/bigdic ...\n",
            "Loading model from cache /tmp/jieba.ud6bf8f54c01f90b8d724c40d567237f2.cache\n",
            "DEBUG:jieba:Loading model from cache /tmp/jieba.ud6bf8f54c01f90b8d724c40d567237f2.cache\n",
            "Loading model cost 1.518 seconds.\n",
            "DEBUG:jieba:Loading model cost 1.518 seconds.\n",
            "Prefix dict has been built successfully.\n",
            "DEBUG:jieba:Prefix dict has been built successfully.\n"
          ]
        },
        {
          "output_type": "execute_result",
          "data": {
            "text/plain": [
              "'NBA 自由市場 才剛 開放 不久 ， 已 陸續 有 多位 球員 簽下 億元 頂薪 合約 ， 其中 一位 就是 夏洛特 黃蜂 的 明星 後衛 「 球三弟 」 小 鮑爾 （ LaMelo   Ball ） ， 根據 《 ESPN 》 報導 ， 他 同意 與 黃蜂 完成 5 年 2.6 億美元 （ 約 81 億 新台幣 ） 的 新秀 頂薪 續約 ， 而 這 不僅 是 黃蜂隊 史 最大 合約 ， 也 是 聯盟 史上 總值 第 2 大 的 合約 。 \\n \\n 小 鮑爾 的 新秀 合約 還 剩下 一年 ， 黃蜂 提供 了 「 指定 新秀 條款 」 的 續約 合約 ， 讓 他 成為 隊史 首位 簽下 指定 新秀 合約 的 球員 ， 據悉 這份 合約 的 最低 保障 金額 為 2.07 億美元 （ 約 64.5 億 新台幣 ） ， 只要 小 鮑爾 下季 能夠 入選 年度 前 三隊 陣容 ， 將可 拿到 最高 2.6 億美元 的 金額 。 \\n 小 鮑爾 在 2020 年 加入 黃蜂 後 便 迅速 嶄露頭角 ， 首年 就 獲選 年度 最佳 新秀 ， 接著 第二年 並未 像 其他 新秀 遇上 「 撞牆 期 」 ， 反而 以 更加 出色 的 表現 入選 明星賽 ， 同時 他 也 是 史 上 第 2 年輕 達成 得分 、 助攻 、 籃板 皆 破 1000 的 球員 ， 僅次於 球星 詹姆斯 （ LeBron   James ） ； 不過 小 鮑爾 卻 在 本季 飽受 腳踝 傷勢 困擾 ， 整季 僅 出賽 36 場 ， 場均 可 貢獻 23.3 分 、 8.4 助攻 、 6.4 籃板 、 1.3 抄截 ， 每場 可 投進 4 顆 三分球 ， 三分 命中率 37.6% 。 \\n 黃蜂 在 續簽 小 鮑 爾後 ， 也 盼望 他 可以 與 榜眼 新秀 米勒 （ Brandon   Miller ） 、 洛齊爾 （ Terry   Rozier ） 、 海沃德 （ Gordon   Hayward ） 聯手 幫助 球隊 終結 7 年 之久 的 季後賽 荒 ； 而 小 鮑爾 也 成為 2020 年 選秀 梯次 中 第 3 位 簽下 億元 頂級 合約 的 球員 ， 前 2 位 分別 是 印第安納 溜馬 哈利 伯頓 （ Tyrese   Haliburton ， 5 年 2.6 億美元 ） 、 曼菲斯 灰熊 班恩 （ Desmond   Bane ， 5 年 2.07 億美元 ） 。 \\n'"
            ],
            "application/vnd.google.colaboratory.intrinsic+json": {
              "type": "string"
            }
          },
          "metadata": {},
          "execution_count": 8
        }
      ]
    },
    {
      "cell_type": "code",
      "source": [
        "#分析重要性\n",
        "import jieba.analyse\n",
        "jieba.analyse.extract_tags(news, withWeight=True) #秀出關鍵詞重要的程度\n",
        "jieba.analyse.extract_tags(news, allowPOS=[\"n\",\"nr\"]) #限定詞性的詞"
      ],
      "metadata": {
        "colab": {
          "base_uri": "https://localhost:8080/"
        },
        "id": "kqBxiy__Xaug",
        "outputId": "c300c4db-e77b-4289-ad8c-1273300b8938"
      },
      "execution_count": null,
      "outputs": [
        {
          "output_type": "execute_result",
          "data": {
            "text/plain": [
              "['合約',\n",
              " '小鮑爾',\n",
              " '黃蜂',\n",
              " '球員',\n",
              " '頂薪',\n",
              " '台幣',\n",
              " '續約',\n",
              " '金額',\n",
              " '籃板',\n",
              " '明星',\n",
              " '年度',\n",
              " '三分球',\n",
              " '自由市場',\n",
              " '夏洛特',\n",
              " '後衛',\n",
              " '球三弟',\n",
              " '報導',\n",
              " '黃蜂隊',\n",
              " '總值',\n",
              " '條款']"
            ]
          },
          "metadata": {},
          "execution_count": 5
        }
      ]
    }
  ]
}